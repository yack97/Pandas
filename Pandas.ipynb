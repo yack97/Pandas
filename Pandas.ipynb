{
  "nbformat": 4,
  "nbformat_minor": 0,
  "metadata": {
    "colab": {
      "provenance": [],
      "authorship_tag": "ABX9TyPAhBlhOp5/bmKSlYq3J2x7",
      "include_colab_link": true
    },
    "kernelspec": {
      "name": "python3",
      "display_name": "Python 3"
    },
    "language_info": {
      "name": "python"
    }
  },
  "cells": [
    {
      "cell_type": "markdown",
      "metadata": {
        "id": "view-in-github",
        "colab_type": "text"
      },
      "source": [
        "<a href=\"https://colab.research.google.com/github/yack97/Pandas/blob/main/Pandas.ipynb\" target=\"_parent\"><img src=\"https://colab.research.google.com/assets/colab-badge.svg\" alt=\"Open In Colab\"/></a>"
      ]
    },
    {
      "cell_type": "code",
      "execution_count": 1,
      "metadata": {
        "id": "mvxesPV2Vyt4"
      },
      "outputs": [],
      "source": [
        "import pandas as pd"
      ]
    },
    {
      "cell_type": "code",
      "source": [
        "lista = [0,2,4,6,8]\n",
        "data = pd.Series(lista)\n",
        "data"
      ],
      "metadata": {
        "colab": {
          "base_uri": "https://localhost:8080/",
          "height": 241
        },
        "id": "kIVsEenPcndq",
        "outputId": "e45f3c6c-e490-4787-d3d0-cb7142720283"
      },
      "execution_count": 2,
      "outputs": [
        {
          "output_type": "execute_result",
          "data": {
            "text/plain": [
              "0    0\n",
              "1    2\n",
              "2    4\n",
              "3    6\n",
              "4    8\n",
              "dtype: int64"
            ],
            "text/html": [
              "<div>\n",
              "<style scoped>\n",
              "    .dataframe tbody tr th:only-of-type {\n",
              "        vertical-align: middle;\n",
              "    }\n",
              "\n",
              "    .dataframe tbody tr th {\n",
              "        vertical-align: top;\n",
              "    }\n",
              "\n",
              "    .dataframe thead th {\n",
              "        text-align: right;\n",
              "    }\n",
              "</style>\n",
              "<table border=\"1\" class=\"dataframe\">\n",
              "  <thead>\n",
              "    <tr style=\"text-align: right;\">\n",
              "      <th></th>\n",
              "      <th>0</th>\n",
              "    </tr>\n",
              "  </thead>\n",
              "  <tbody>\n",
              "    <tr>\n",
              "      <th>0</th>\n",
              "      <td>0</td>\n",
              "    </tr>\n",
              "    <tr>\n",
              "      <th>1</th>\n",
              "      <td>2</td>\n",
              "    </tr>\n",
              "    <tr>\n",
              "      <th>2</th>\n",
              "      <td>4</td>\n",
              "    </tr>\n",
              "    <tr>\n",
              "      <th>3</th>\n",
              "      <td>6</td>\n",
              "    </tr>\n",
              "    <tr>\n",
              "      <th>4</th>\n",
              "      <td>8</td>\n",
              "    </tr>\n",
              "  </tbody>\n",
              "</table>\n",
              "</div><br><label><b>dtype:</b> int64</label>"
            ]
          },
          "metadata": {},
          "execution_count": 2
        }
      ]
    },
    {
      "cell_type": "code",
      "source": [
        "data.values"
      ],
      "metadata": {
        "colab": {
          "base_uri": "https://localhost:8080/"
        },
        "id": "jEn8GFdvc0nb",
        "outputId": "d1676c60-fb1d-4416-c0d3-4fcdb54a81b1"
      },
      "execution_count": 3,
      "outputs": [
        {
          "output_type": "execute_result",
          "data": {
            "text/plain": [
              "array([0, 2, 4, 6, 8])"
            ]
          },
          "metadata": {},
          "execution_count": 3
        }
      ]
    },
    {
      "cell_type": "code",
      "source": [
        "data.index"
      ],
      "metadata": {
        "colab": {
          "base_uri": "https://localhost:8080/"
        },
        "id": "tJPqiZ34c3rJ",
        "outputId": "40fa85c4-cb33-4084-e73e-3c85123632ed"
      },
      "execution_count": 4,
      "outputs": [
        {
          "output_type": "execute_result",
          "data": {
            "text/plain": [
              "RangeIndex(start=0, stop=5, step=1)"
            ]
          },
          "metadata": {},
          "execution_count": 4
        }
      ]
    },
    {
      "cell_type": "code",
      "source": [
        "population_dict = {'California': 38, 'Texas': 264, 'New York': 196, 'Florida': 195, 'Illinois': 128}\n",
        "population = pd.Series(population_dict)\n",
        "population"
      ],
      "metadata": {
        "colab": {
          "base_uri": "https://localhost:8080/",
          "height": 241
        },
        "id": "-JU3QfS2dERm",
        "outputId": "caa255ea-b5ec-4cb0-e415-ebd575a7f9b7"
      },
      "execution_count": 5,
      "outputs": [
        {
          "output_type": "execute_result",
          "data": {
            "text/plain": [
              "California     38\n",
              "Texas         264\n",
              "New York      196\n",
              "Florida       195\n",
              "Illinois      128\n",
              "dtype: int64"
            ],
            "text/html": [
              "<div>\n",
              "<style scoped>\n",
              "    .dataframe tbody tr th:only-of-type {\n",
              "        vertical-align: middle;\n",
              "    }\n",
              "\n",
              "    .dataframe tbody tr th {\n",
              "        vertical-align: top;\n",
              "    }\n",
              "\n",
              "    .dataframe thead th {\n",
              "        text-align: right;\n",
              "    }\n",
              "</style>\n",
              "<table border=\"1\" class=\"dataframe\">\n",
              "  <thead>\n",
              "    <tr style=\"text-align: right;\">\n",
              "      <th></th>\n",
              "      <th>0</th>\n",
              "    </tr>\n",
              "  </thead>\n",
              "  <tbody>\n",
              "    <tr>\n",
              "      <th>California</th>\n",
              "      <td>38</td>\n",
              "    </tr>\n",
              "    <tr>\n",
              "      <th>Texas</th>\n",
              "      <td>264</td>\n",
              "    </tr>\n",
              "    <tr>\n",
              "      <th>New York</th>\n",
              "      <td>196</td>\n",
              "    </tr>\n",
              "    <tr>\n",
              "      <th>Florida</th>\n",
              "      <td>195</td>\n",
              "    </tr>\n",
              "    <tr>\n",
              "      <th>Illinois</th>\n",
              "      <td>128</td>\n",
              "    </tr>\n",
              "  </tbody>\n",
              "</table>\n",
              "</div><br><label><b>dtype:</b> int64</label>"
            ]
          },
          "metadata": {},
          "execution_count": 5
        }
      ]
    },
    {
      "cell_type": "code",
      "source": [
        "pd.Series([2, 4, 6])"
      ],
      "metadata": {
        "colab": {
          "base_uri": "https://localhost:8080/",
          "height": 178
        },
        "id": "TQuxMPGUdZ5q",
        "outputId": "9bbdf782-9e5e-4494-9485-9c920a32a9a1"
      },
      "execution_count": 6,
      "outputs": [
        {
          "output_type": "execute_result",
          "data": {
            "text/plain": [
              "0    2\n",
              "1    4\n",
              "2    6\n",
              "dtype: int64"
            ],
            "text/html": [
              "<div>\n",
              "<style scoped>\n",
              "    .dataframe tbody tr th:only-of-type {\n",
              "        vertical-align: middle;\n",
              "    }\n",
              "\n",
              "    .dataframe tbody tr th {\n",
              "        vertical-align: top;\n",
              "    }\n",
              "\n",
              "    .dataframe thead th {\n",
              "        text-align: right;\n",
              "    }\n",
              "</style>\n",
              "<table border=\"1\" class=\"dataframe\">\n",
              "  <thead>\n",
              "    <tr style=\"text-align: right;\">\n",
              "      <th></th>\n",
              "      <th>0</th>\n",
              "    </tr>\n",
              "  </thead>\n",
              "  <tbody>\n",
              "    <tr>\n",
              "      <th>0</th>\n",
              "      <td>2</td>\n",
              "    </tr>\n",
              "    <tr>\n",
              "      <th>1</th>\n",
              "      <td>4</td>\n",
              "    </tr>\n",
              "    <tr>\n",
              "      <th>2</th>\n",
              "      <td>6</td>\n",
              "    </tr>\n",
              "  </tbody>\n",
              "</table>\n",
              "</div><br><label><b>dtype:</b> int64</label>"
            ]
          },
          "metadata": {},
          "execution_count": 6
        }
      ]
    },
    {
      "cell_type": "code",
      "source": [
        "pd.Series(5, index=[100, 200, 300])"
      ],
      "metadata": {
        "colab": {
          "base_uri": "https://localhost:8080/",
          "height": 178
        },
        "id": "pX0Q8YNFdfOI",
        "outputId": "d41a7ad1-2770-45a4-8fe3-161eff65af8c"
      },
      "execution_count": 9,
      "outputs": [
        {
          "output_type": "execute_result",
          "data": {
            "text/plain": [
              "100    5\n",
              "200    5\n",
              "300    5\n",
              "dtype: int64"
            ],
            "text/html": [
              "<div>\n",
              "<style scoped>\n",
              "    .dataframe tbody tr th:only-of-type {\n",
              "        vertical-align: middle;\n",
              "    }\n",
              "\n",
              "    .dataframe tbody tr th {\n",
              "        vertical-align: top;\n",
              "    }\n",
              "\n",
              "    .dataframe thead th {\n",
              "        text-align: right;\n",
              "    }\n",
              "</style>\n",
              "<table border=\"1\" class=\"dataframe\">\n",
              "  <thead>\n",
              "    <tr style=\"text-align: right;\">\n",
              "      <th></th>\n",
              "      <th>0</th>\n",
              "    </tr>\n",
              "  </thead>\n",
              "  <tbody>\n",
              "    <tr>\n",
              "      <th>100</th>\n",
              "      <td>5</td>\n",
              "    </tr>\n",
              "    <tr>\n",
              "      <th>200</th>\n",
              "      <td>5</td>\n",
              "    </tr>\n",
              "    <tr>\n",
              "      <th>300</th>\n",
              "      <td>5</td>\n",
              "    </tr>\n",
              "  </tbody>\n",
              "</table>\n",
              "</div><br><label><b>dtype:</b> int64</label>"
            ]
          },
          "metadata": {},
          "execution_count": 9
        }
      ]
    },
    {
      "cell_type": "code",
      "source": [
        "# prompt: genreear ejemplo de dataframe\n",
        "\n",
        "import pandas as pd\n",
        "# Crear un diccionario con los datos\n",
        "data = {'Nombre': ['Juan', 'María', 'Pedro', 'Ana'],\n",
        "        'Edad': [25, 32, 28, 40],\n",
        "        'Ciudad': ['Madrid', 'Barcelona', 'Valencia', 'Sevilla']}\n",
        "\n",
        "# Crear un DataFrame a partir del diccionario\n",
        "df = pd.DataFrame(data)\n",
        "\n",
        "# Mostrar el DataFrame\n",
        "print(df)\n"
      ],
      "metadata": {
        "colab": {
          "base_uri": "https://localhost:8080/"
        },
        "id": "ir-eQHHmeUO4",
        "outputId": "0bbecb64-ecef-40c9-85c5-9a851401c77e"
      },
      "execution_count": 13,
      "outputs": [
        {
          "output_type": "stream",
          "name": "stdout",
          "text": [
            "  Nombre  Edad     Ciudad\n",
            "0   Juan    25     Madrid\n",
            "1  María    32  Barcelona\n",
            "2  Pedro    28   Valencia\n",
            "3    Ana    40    Sevilla\n"
          ]
        }
      ]
    },
    {
      "cell_type": "code",
      "source": [
        "# prompt: ejemplo remplzara vlaor nan en un data frame\n",
        "\n",
        "import pandas as pd\n",
        "import numpy as np\n",
        "\n",
        "# Crear un DataFrame con valores NaN\n",
        "df_nan = pd.DataFrame({'A': [1, 2, np.nan, 4],\n",
        "                       'B': [5, np.nan, np.nan, 8],\n",
        "                       'C': [9, 10, 11, 12]})\n",
        "\n",
        "# Reemplazar los valores NaN con 0\n",
        "df_filled = df_nan.fillna(0)\n",
        "\n",
        "# Mostrar el DataFrame con los valores NaN reemplazados\n",
        "print(df_filled)\n"
      ],
      "metadata": {
        "colab": {
          "base_uri": "https://localhost:8080/"
        },
        "id": "q_PPctUoehju",
        "outputId": "e3e6deed-60f6-4c37-ad4b-0c255e98dded"
      },
      "execution_count": 14,
      "outputs": [
        {
          "output_type": "stream",
          "name": "stdout",
          "text": [
            "     A    B   C\n",
            "0  1.0  5.0   9\n",
            "1  2.0  0.0  10\n",
            "2  0.0  0.0  11\n",
            "3  4.0  8.0  12\n"
          ]
        }
      ]
    },
    {
      "cell_type": "code",
      "source": [
        "# prompt: ejemplo de copiar data fraem y trabajr con la copia\n",
        "\n",
        "# Crear una copia del DataFrame df\n",
        "df_copia = df.copy()\n",
        "\n",
        "# Modificar la copia sin afectar el DataFrame original\n",
        "df_copia['Edad'] = df_copia['Edad'] + 1\n",
        "\n",
        "# Mostrar el DataFrame original y la copia\n",
        "print(\"DataFrame original:\")\n",
        "print(df)\n",
        "print(\"\\nDataFrame copia:\")\n",
        "print(df_copia)\n"
      ],
      "metadata": {
        "colab": {
          "base_uri": "https://localhost:8080/"
        },
        "id": "4Uzncs9ieoO7",
        "outputId": "40d4a9f0-520e-4b80-fae4-1819fadf6b70"
      },
      "execution_count": 15,
      "outputs": [
        {
          "output_type": "stream",
          "name": "stdout",
          "text": [
            "DataFrame original:\n",
            "  Nombre  Edad     Ciudad\n",
            "0   Juan    25     Madrid\n",
            "1  María    32  Barcelona\n",
            "2  Pedro    28   Valencia\n",
            "3    Ana    40    Sevilla\n",
            "\n",
            "DataFrame copia:\n",
            "  Nombre  Edad     Ciudad\n",
            "0   Juan    26     Madrid\n",
            "1  María    33  Barcelona\n",
            "2  Pedro    29   Valencia\n",
            "3    Ana    41    Sevilla\n"
          ]
        }
      ]
    },
    {
      "cell_type": "code",
      "source": [
        "# prompt: ejemeplo de copia de dataframe y trabajr con la copia y agregar una columna a la copia\n",
        "\n",
        "# Crear una copia del DataFrame df\n",
        "df_copia = df.copy()\n",
        "\n",
        "# Modificar la copia sin afectar el DataFrame original\n",
        "df_copia['Edad'] = df_copia['Edad'] + 1\n",
        "\n",
        "# Agregar una nueva columna a la copia\n",
        "df_copia['Genero'] = ['Masculino', 'Femenino', 'Masculino', 'Femenino']\n",
        "\n",
        "# Mostrar el DataFrame original y la copia\n",
        "print(\"DataFrame original:\")\n",
        "print(df)\n",
        "print(\"\\nDataFrame copia:\")\n",
        "print(df_copia)\n"
      ],
      "metadata": {
        "colab": {
          "base_uri": "https://localhost:8080/"
        },
        "id": "R7-IQel-exIF",
        "outputId": "9fd3b79c-ff82-474e-de20-eec371a1ea43"
      },
      "execution_count": 17,
      "outputs": [
        {
          "output_type": "stream",
          "name": "stdout",
          "text": [
            "DataFrame original:\n",
            "  Nombre  Edad     Ciudad\n",
            "0   Juan    25     Madrid\n",
            "1  María    32  Barcelona\n",
            "2  Pedro    28   Valencia\n",
            "3    Ana    40    Sevilla\n",
            "\n",
            "DataFrame copia:\n",
            "  Nombre  Edad     Ciudad     Genero\n",
            "0   Juan    26     Madrid  Masculino\n",
            "1  María    33  Barcelona   Femenino\n",
            "2  Pedro    29   Valencia  Masculino\n",
            "3    Ana    41    Sevilla   Femenino\n"
          ]
        }
      ]
    },
    {
      "cell_type": "code",
      "source": [
        "# prompt: ejemeplo de copia de dataframe y trabajr con la copia y agregar una columna a la copia, luego combianr los cambios de la copia con el original\n",
        "\n",
        "# Crear una copia del DataFrame df\n",
        "df_copia = df.copy()\n",
        "\n",
        "# Modificar la copia sin afectar el DataFrame original\n",
        "df_copia['Edad'] = df_copia['Edad'] + 1\n",
        "\n",
        "# Agregar una nueva columna a la copia\n",
        "df_copia['Genero'] = ['Masculino', 'Femenino', 'Masculino', 'Femenino']\n",
        "\n",
        "# Mostrar el DataFrame original y la copia\n",
        "print(\"DataFrame original:\")\n",
        "print(df)\n",
        "print(\"\\nDataFrame copia:\")\n",
        "print(df_copia)\n",
        "\n",
        "# Combinar los cambios de la copia con el original (usando update)\n",
        "df.update(df_copia)\n",
        "\n",
        "# Mostrar el DataFrame original después de la combinación\n",
        "print(\"\\nDataFrame original después de la combinación:\")\n",
        "print(df)\n"
      ],
      "metadata": {
        "colab": {
          "base_uri": "https://localhost:8080/"
        },
        "id": "xwwLzak8fHGA",
        "outputId": "a427f825-a98f-4a22-8174-dad334f6caf5"
      },
      "execution_count": 18,
      "outputs": [
        {
          "output_type": "stream",
          "name": "stdout",
          "text": [
            "DataFrame original:\n",
            "  Nombre  Edad     Ciudad\n",
            "0   Juan    25     Madrid\n",
            "1  María    32  Barcelona\n",
            "2  Pedro    28   Valencia\n",
            "3    Ana    40    Sevilla\n",
            "\n",
            "DataFrame copia:\n",
            "  Nombre  Edad     Ciudad     Genero\n",
            "0   Juan    26     Madrid  Masculino\n",
            "1  María    33  Barcelona   Femenino\n",
            "2  Pedro    29   Valencia  Masculino\n",
            "3    Ana    41    Sevilla   Femenino\n",
            "\n",
            "DataFrame original después de la combinación:\n",
            "  Nombre  Edad     Ciudad\n",
            "0   Juan    26     Madrid\n",
            "1  María    33  Barcelona\n",
            "2  Pedro    29   Valencia\n",
            "3    Ana    41    Sevilla\n"
          ]
        }
      ]
    },
    {
      "cell_type": "code",
      "source": [
        "# prompt: ejemplo trabajr index con dataframe\n",
        "\n",
        "import pandas as pd\n",
        "# Crear un DataFrame con un índice personalizado\n",
        "data = {'Nombre': ['Juan', 'María', 'Pedro', 'Ana'],\n",
        "        'Edad': [25, 32, 28, 40],\n",
        "        'Ciudad': ['Madrid', 'Barcelona', 'Valencia', 'Sevilla']}\n",
        "df = pd.DataFrame(data, index=['A', 'B', 'C', 'D'])\n",
        "\n",
        "# Acceder a filas por índice\n",
        "print(df.loc['B'])  # Acceder a la fila con índice 'B'\n",
        "\n",
        "# Establecer el índice como columna\n",
        "df = df.reset_index()\n",
        "print(df)\n",
        "\n",
        "# Establecer una columna como índice\n",
        "df = df.set_index('Nombre')\n",
        "print(df)\n",
        "\n",
        "# Ordenar el DataFrame por índice\n",
        "df_ordenado = df.sort_index()\n",
        "print(df_ordenado)\n"
      ],
      "metadata": {
        "colab": {
          "base_uri": "https://localhost:8080/"
        },
        "id": "OWe3pOqMfV5Y",
        "outputId": "7b87f295-78cf-4447-c223-b1d0f02f4b6c"
      },
      "execution_count": 19,
      "outputs": [
        {
          "output_type": "stream",
          "name": "stdout",
          "text": [
            "Nombre        María\n",
            "Edad             32\n",
            "Ciudad    Barcelona\n",
            "Name: B, dtype: object\n",
            "  index Nombre  Edad     Ciudad\n",
            "0     A   Juan    25     Madrid\n",
            "1     B  María    32  Barcelona\n",
            "2     C  Pedro    28   Valencia\n",
            "3     D    Ana    40    Sevilla\n",
            "       index  Edad     Ciudad\n",
            "Nombre                       \n",
            "Juan       A    25     Madrid\n",
            "María      B    32  Barcelona\n",
            "Pedro      C    28   Valencia\n",
            "Ana        D    40    Sevilla\n",
            "       index  Edad     Ciudad\n",
            "Nombre                       \n",
            "Ana        D    40    Sevilla\n",
            "Juan       A    25     Madrid\n",
            "María      B    32  Barcelona\n",
            "Pedro      C    28   Valencia\n"
          ]
        }
      ]
    },
    {
      "cell_type": "code",
      "source": [
        "# prompt: ejemplo imprimer interseccion\n",
        "\n",
        "# Crear dos conjuntos\n",
        "conjunto1 = {1, 2, 3, 4, 5}\n",
        "conjunto2 = {3, 5, 6, 7, 8}\n",
        "\n",
        "# Encontrar la intersección de los conjuntos\n",
        "interseccion = conjunto1.intersection(conjunto2)\n",
        "\n",
        "# Imprimir la intersección\n",
        "print(\"La intersección de los conjuntos es:\", interseccion)\n"
      ],
      "metadata": {
        "colab": {
          "base_uri": "https://localhost:8080/"
        },
        "id": "ovAexMH5fieB",
        "outputId": "36a21765-d3ec-4909-aba0-4a8749955211"
      },
      "execution_count": 20,
      "outputs": [
        {
          "output_type": "stream",
          "name": "stdout",
          "text": [
            "La intersección de los conjuntos es: {3, 5}\n"
          ]
        }
      ]
    },
    {
      "cell_type": "code",
      "source": [
        "# prompt: ejemplo de mostrar las difenrencias entre dos o mas  dataframe\n",
        "\n",
        "import pandas as pd\n",
        "\n",
        "# Crear dos DataFrames\n",
        "df1 = pd.DataFrame({'A': [1, 2, 3], 'B': [4, 5, 6]})\n",
        "df2 = pd.DataFrame({'A': [1, 2, 4], 'B': [4, 6, 6]})\n",
        "\n",
        "# Encontrar las diferencias usando merge\n",
        "diferencias = pd.merge(df1, df2, how='outer', indicator=True)\n",
        "print(diferencias)\n",
        "\n",
        "# Filtrar las filas que son diferentes\n",
        "diferentes_df1 = diferencias[diferencias['_merge'] == 'left_only']\n",
        "diferentes_df2 = diferencias[diferencias['_merge'] == 'right_only']\n",
        "\n",
        "print(\"\\nFilas diferentes en df1:\")\n",
        "print(diferentes_df1)\n",
        "\n",
        "print(\"\\nFilas diferentes en df2:\")\n",
        "print(diferentes_df2)\n"
      ],
      "metadata": {
        "colab": {
          "base_uri": "https://localhost:8080/"
        },
        "id": "A-1fF643fowu",
        "outputId": "c67991ad-ee53-4b5a-af85-99f0286fe223"
      },
      "execution_count": 21,
      "outputs": [
        {
          "output_type": "stream",
          "name": "stdout",
          "text": [
            "   A  B      _merge\n",
            "0  1  4        both\n",
            "1  2  5   left_only\n",
            "2  3  6   left_only\n",
            "3  2  6  right_only\n",
            "4  4  6  right_only\n",
            "\n",
            "Filas diferentes en df1:\n",
            "   A  B     _merge\n",
            "1  2  5  left_only\n",
            "2  3  6  left_only\n",
            "\n",
            "Filas diferentes en df2:\n",
            "   A  B      _merge\n",
            "3  2  6  right_only\n",
            "4  4  6  right_only\n"
          ]
        }
      ]
    }
  ]
}